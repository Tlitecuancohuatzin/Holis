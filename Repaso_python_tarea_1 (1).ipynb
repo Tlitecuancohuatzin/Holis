{
  "cells": [
    {
      "cell_type": "markdown",
      "id": "5460c487",
      "metadata": {
        "id": "5460c487"
      },
      "source": [
        "## Tarea 1: Repaso de los conceptos básicos de Python\n",
        "### Ciencia de datos para físicos: Facultad de ciencias, UNAM\n",
        "#### Profesores: Karen Rubí Jiménez-López, Pedro Arturo Flores-Silva\n",
        "\n",
        "**Instrucciones:** Este notebook contiene una serie de ejercicios que deben ser resueltos. Cada ejercicio se encuentra en una celda, ya sea de código o Markdown. Debes crear una o dos *celdas debajo de cada ejercicio* con tu(s) respectiva(s) respuestas. No modifiques las celdas originales.\n",
        "\n",
        "Recuerda que para ejecutar el código de una celda, presionar `Ctlr + Enter` o bien el boton de `play` en el editor Jupyter notebook.\n",
        "\n",
        "Cada ejercicio tendrá diferente valor, y se indicará en la celda de éste. La calificación final será la suma de los puntos obtenidos en cada ejercicio. Se calificará considerando la calidad de la respuesta, la claridad de la explicación y la correctitud del código. Por ejemplo, si el código no ejecuta la respuesta correcta pero se da una idea textual, se demuestra que hay comprensión del problema y el código hace sentido para el revisor, se otorgará una calificación parcial. Esto es, las respuestas no solo se evaluarán como bien o mal, sino que se considerará el esfuerzo.\n",
        "\n",
        "El codigo que realices debes comentarlo donde creas necesario, no vale no hacer ningún comentario. Recuerda que los comentarios son importantes para que el código sea legible y entendible, éstos se agregan con el símbolo #. Para las funciones y/o clases que crees, agrega la documentación correspondiente (docstring), éste se agrega con `\"\"\" docstring \"\"\"`."
      ]
    },
    {
      "cell_type": "code",
      "execution_count": 40,
      "id": "3b51a232",
      "metadata": {
        "id": "3b51a232"
      },
      "outputs": [],
      "source": [
        "#from cmath import*"
      ]
    },
    {
      "cell_type": "markdown",
      "id": "66df713a",
      "metadata": {
        "id": "66df713a"
      },
      "source": [
        "### Ejercicio 1 (1 punto):\n",
        "En una celda Markdown contesta: \n",
        "* ¿Qué es una palabra reservada en python? Enlista 5 ejemplos de nombres reservados en python y describe su función.\n",
        "* Coloca tres ejemplos de nombres de variables que no son válidos en python. Explica por qué no son válidos."
      ]
    },
    {
      "cell_type": "markdown",
      "source": [
        "Una palabra reservada en python es una palabra que este lenguaje de programación ha reservado para asignarle una función o tarea específica., así que no las podemos ocupar para otra labor, por ejemplo, como variables. \\\\\n",
        "Tenemos, por ejemplo: \\\\\n",
        "*def: Se utiliza para definir funciones, éstas seguidas después de esta palabra. \\\\\n",
        "*return: sirve para especificar el resultado final (entre paréntesis) de la función definida o tarea que se implementa. \\\\  \n",
        "*for: Se utiliza para hacer un ciclo, el cual tiene la tarea de hacer una serie de acciones y repetirlas hasta donde se defina el ciclo.\n",
        "*if: Indica un condicional, es decir, tiene la propiedad de señalar que el programa realizará cierta darea si se cumple cierta condición, seguida de esta palabra. \\\\\n",
        "*else: Esta palabra marca la serie de tareas que realiza el programa si no se cumple ninguna de las condiciones definidas anteriormente, es decir, si el programa requiere realizar una tarea que no cumple ninguno de los casos especificados con condicionales, se utilisa else. "
      ],
      "metadata": {
        "id": "uMCyey1gdKwP"
      },
      "id": "uMCyey1gdKwP"
    },
    {
      "cell_type": "markdown",
      "source": [
        "Tres ejemplos de nombres de variables que son inválidas en python: \\\\\n",
        "*def: Porque def es una palabra reservada en python. \\\\\n",
        "*6tyu: Porque, por regla general, el nombre de variable siempre debe comenzar con una letra (incluyendo el guión bajo). \\\\\n",
        "*dger5$: Porque este nombre contiene un caracter diferente a una letra o dígito (el símbolo de pesos) y por regla general, esto no está permitido. "
      ],
      "metadata": {
        "id": "ZRqtJyfNkfSj"
      },
      "id": "ZRqtJyfNkfSj"
    },
    {
      "cell_type": "markdown",
      "id": "8f4fd89b",
      "metadata": {
        "id": "8f4fd89b"
      },
      "source": [
        "### Ejercicio 2 (1 punto):\n",
        "\n",
        "En una celda de código, escribe una función que encuentre las raíces de cualquier polinomio de segundo grado (implementar la chicharronera). En una celda markdown detalla posibles casos en la cual la función podría fallar.\n",
        "Usa dicha función para encontrar las raíces del polinomio $f(x) = 10x^2 - 2x$ e imprimelas en pantalla."
      ]
    },
    {
      "cell_type": "code",
      "execution_count": 41,
      "id": "fe15e662",
      "metadata": {
        "id": "fe15e662"
      },
      "outputs": [],
      "source": [
        "from math import*\n",
        "def chicharronera(a,b,c): \n",
        "    \"\"\" La función chicharronera(a,b,c) encuentra las raices de un polinomio de segundo grado ocupando la \n",
        "        fórmula general, sus parametros son a, b, c, los cuales representan los coeficientes reales del polinomio de segundo \n",
        "        grado p(x)=a*x**2+b*x+c.\n",
        "    \"\"\" \n",
        "    try:\n",
        "        ### Se busca encontrar las raices del polinomio dependiendo del valor del discriminante b**2-4*a*c ###\n",
        "        if b**2-4*a*c>0:\n",
        "            return((-b+sqrt(b**2-4*a*c))/(2*a),(-b-sqrt(b**2-4*a*c))/(2*a))                      #Se obtienen 2 raices reales.\n",
        "        elif b**2-4*a*c==0:\n",
        "            return((-b)/(2*a))                                                                   #Se obtiene 1 raiz real (multiplicidad 2).\n",
        "        elif b**2-4*a*c<0:\n",
        "            return((-b+sqrt((b**2-4*a*c)*(-1))*1j)/(2*a),(-b-sqrt((b**2-4*a*c)*(-1))*1j)/(2*a))  #Para este caso se obtienen raices complejas.\n",
        "    ### Con except TypeError se busca especificar los casos en las que se meten valores str a la función y marcarlos como error (y así para las demás funciones de esta tarea) ###\n",
        "    except TypeError:\n",
        "        print('Entradas no válidas') "
      ]
    },
    {
      "cell_type": "code",
      "execution_count": 43,
      "id": "0392f6c8",
      "metadata": {
        "colab": {
          "base_uri": "https://localhost:8080/"
        },
        "id": "0392f6c8",
        "outputId": "5495d9ca-c354-4079-9424-a47f1c800eee"
      },
      "outputs": [
        {
          "output_type": "execute_result",
          "data": {
            "text/plain": [
              "(0.2, 0.0)"
            ]
          },
          "metadata": {},
          "execution_count": 43
        }
      ],
      "source": [
        "chicharronera(10,-2,0)"
      ]
    },
    {
      "cell_type": "markdown",
      "id": "7610c62b",
      "metadata": {
        "id": "7610c62b"
      },
      "source": [
        "### Ejercicio 3 (1 punto):\n",
        "\n",
        "*Caida libre*: El gran Galileo Galilei subió la torre de Pisa para determinar el tiempo que tarda un objeto en caer desde una altura $H$ al suelo. Para ello, colocó un objeto de masa $m=100$ kg en la torre y lo dejó caer. El tiempo que tardó en caer fue $t=0.05616667$ minutos.\n",
        "\n",
        "Considerando que la aceleración de la gravedad es $g=9.8$ $\\frac{m}{s^2}$, escribe un programa que determine la altura de la torre de Pisa. El programa debe imprimir la altura en la pantalla.\n",
        "\n",
        "Recuerda que el movimiento de caída libre simplificado cumple la ecuación: $y(t) = H + vt - \\frac{1}{2}gt^2$."
      ]
    },
    {
      "cell_type": "code",
      "execution_count": 9,
      "id": "226ec64b",
      "metadata": {
        "id": "226ec64b"
      },
      "outputs": [],
      "source": [
        "g=9.8               #Valor aceleración gravitacional terrestre.\n",
        "T=0.05616667*60     #Tiempo que tardó el objeto en caer de la torre de Pisa en segundos.\n",
        "def HCL(t):\n",
        "    \"\"\" La función HCL(t) toma valores de t que representan valores de tiempo en segundos para medir la altura de donde se\n",
        "         lanzó un objeto con velocidad inicial v y que tardó un tiempo t en caer. Obsérvese que de la fórmula de caida libre,\n",
        "         y(t)=0 pues el objeto termina en el suelo, donde se toma como punto de referencia, por lo que H=g*t**2/2-v*t. Para el \n",
        "         experimento de Galileo, v=0, por lo que H=g*t**2/2, correspondiente a la función HCL.\n",
        "    \"\"\" \n",
        "    try:\n",
        "        return((g*t**2)/2)\n",
        "    except TypeError:\n",
        "        print('Entradas no válidas')"
      ]
    },
    {
      "cell_type": "code",
      "execution_count": 44,
      "id": "8c635b9d",
      "metadata": {
        "id": "8c635b9d",
        "outputId": "828c2b89-0cd0-4975-dc1b-0a4f2dc4e3d2",
        "colab": {
          "base_uri": "https://localhost:8080/"
        }
      },
      "outputs": [
        {
          "output_type": "stream",
          "name": "stdout",
          "text": [
            "La torre de Pisa tiene una altura en metros de: 55.64881660520021\n"
          ]
        }
      ],
      "source": [
        "print('La torre de Pisa tiene una altura en metros de:', HCL(T))"
      ]
    },
    {
      "cell_type": "markdown",
      "id": "bf2d28e7",
      "metadata": {
        "id": "bf2d28e7"
      },
      "source": [
        "### Ejercicio 4 (1 punto):\n",
        "Crea una lista de números enteros del 0 al 99 : `lista = [0,1, 2, 3, 4, ... , 95, 96, 97, 98, 99]` (6 puntos menos si creas la lista manualmente).\n",
        " \n",
        "Escribe un programa que imprima en la pantalla una la lista que cumpla con las siguientes condiciones:\n",
        "* Los ultimos 10 elementos: debe imprimir lo siguiente `[90, 91, 92, 93, 94, 95, 96, 97, 98, 99]`.\n",
        "* Los primeros 11 elementos: debe imprimir lo siguiente `[0, 1, 2, 3, 4, 5, 6, 7, 8, 9, 10]`.\n",
        "* La serie de elementos de la lista que están entre 60 y 75: debe imprimir lo siguiente `[60, 61, 62, 63, 64, 65, 66, 67, 68, 69, 70, 71, 72, 73, 74, 75]`.\n",
        "* El número 50: debe imprimir lo siguiente `50`.\n",
        "\n",
        "Debes aplicar el concepto de *slicing* para resolver este ejercicio (notación de puntos `[:]`).\n",
        "\n",
        "Puntos menos si se crean listas nuevas para cada caso y/o se seleccionan manualmente los valores."
      ]
    },
    {
      "cell_type": "code",
      "execution_count": 12,
      "id": "74de5060",
      "metadata": {
        "id": "74de5060",
        "outputId": "1902003c-0b5e-49e2-c7c3-bf881ea34f17",
        "colab": {
          "base_uri": "https://localhost:8080/"
        }
      },
      "outputs": [
        {
          "output_type": "stream",
          "name": "stdout",
          "text": [
            "Las listas requeridas son: [90, 91, 92, 93, 94, 95, 96, 97, 98, 99] [0, 1, 2, 3, 4, 5, 6, 7, 8, 9, 10] [60, 61, 62, 63, 64, 65, 66, 67, 68, 69, 70, 71, 72, 73, 74, 75] 50\n"
          ]
        }
      ],
      "source": [
        "l=[]\n",
        "for i in range(0,100):\n",
        "    l.append(i)                                                        #Se crea una lista 'l' con valores del 0 al 99.\n",
        "print('Las listas requeridas son:', l[-10:], l[:11], l[60:76], l[50])  #Con el uso de : se busca imprimir los elementos de lpertenecientes a determinado intervalo, como los que se mencionan.   "
      ]
    },
    {
      "cell_type": "markdown",
      "id": "ac5b94d8",
      "metadata": {
        "id": "ac5b94d8"
      },
      "source": [
        "### Ejercicio 5 (1 punto):\n",
        "Crea una lista de números enteros del 0 al 1000. A partir de dicha lista:\n",
        "* Guarda en una variable una lista con los números pares usando ciclos y condicionales. Imprime los últimos 10 elementos de la lista final.\n",
        "* Guarda en una variable una lista con los números impares usando listas comprensivas (comprehension list). Imprime los primeros 10 elementos de la lista final."
      ]
    },
    {
      "cell_type": "code",
      "execution_count": 13,
      "id": "e4eaa4a4",
      "metadata": {
        "id": "e4eaa4a4",
        "outputId": "5bd05db4-355b-4aef-cb3c-177009a89c62",
        "colab": {
          "base_uri": "https://localhost:8080/"
        }
      },
      "outputs": [
        {
          "output_type": "stream",
          "name": "stdout",
          "text": [
            "[982, 984, 986, 988, 990, 992, 994, 996, 998, 1000]\n",
            "[1, 3, 5, 7, 9, 11, 13, 15, 17, 19]\n"
          ]
        }
      ],
      "source": [
        "l=[]\n",
        "par=[]\n",
        "\n",
        "for i in range(0,1001):\n",
        "  l.append(i)                   #Se crea una lista 'l' con elementos del 0 al 1000.\n",
        "\n",
        "for i in l:\n",
        "  if l[i]%2==0:\n",
        "    par.append(i)               #Se crea una lista 'par' a partir de 'l' utilizando la función módulo.\n",
        "print(par[-10:])                #Se imprimen los últimos 10 elementos de la lista 'par'. \n",
        "\n",
        "impar=[i for i in l if i%2!=0]  #Se crea una lista 'impar' a partir de 'l' utilizando la función módulo de forma compresa.\n",
        "print(impar[:10])               #Se imprimen los primeros 10 elementos de la lista 'impar'."
      ]
    },
    {
      "cell_type": "markdown",
      "id": "00462693",
      "metadata": {
        "id": "00462693"
      },
      "source": [
        "### Ejercicio 6 (2 puntos): Aproximación de $\\pi$\n",
        "Una de las formas más sencillas de aproximar $\\pi$ es mediante la siguiente serie infinita de Leibniz:\n",
        "$$\\frac{\\pi}{4} = \\sum_{n=0}^{\\infty}\\frac{(-1)^{n}}{(2n+1)} = \\frac{1}{1} - \\frac{1}{3} + \\frac{1}{5}-\\frac{1}{7}+\\frac{1}{9}-...$$\n",
        "\n",
        "crea una función para aproximar $\\pi$ utilizando la serie de Leibniz. Usa n = 100000 e imprime el valor de tu aproximación tanto el valor de $\\frac{\\pi}{4}$ como $\\pi$.\n",
        "\n",
        "El valor de $\\pi$ se obtiene al despejar:\n",
        "$$\\pi = 4 * \\left(\\sum_{n=0}^{\\infty}\\frac{(-1)^{n}}{(2n+1)} \\right)$$\n",
        "\n",
        "La siguiente celda de codigo ofrece el valor de $\\frac{\\pi}{4}$"
      ]
    },
    {
      "cell_type": "code",
      "execution_count": 14,
      "id": "a4a31d07",
      "metadata": {
        "id": "a4a31d07",
        "outputId": "2306ebc8-eeba-4905-c002-1ac1ac96706d",
        "colab": {
          "base_uri": "https://localhost:8080/"
        }
      },
      "outputs": [
        {
          "output_type": "stream",
          "name": "stdout",
          "text": [
            "El valor de pi/4 es aproximadamente 0.7853981633974483\n"
          ]
        }
      ],
      "source": [
        "import numpy as np\n",
        "#El valor de pi/4\n",
        "print(\"El valor de pi/4 es aproximadamente {}\".format(np.pi/4))"
      ]
    },
    {
      "cell_type": "code",
      "execution_count": 16,
      "id": "a52cb987",
      "metadata": {
        "id": "a52cb987"
      },
      "outputs": [],
      "source": [
        "def pi4(m):         \n",
        "    \"\"\"La funció pi4 devuelve el valor de la serie de Leibniz que corre de 0 a m, con m el parámetro ocupado.\n",
        "        El valor que arroja, multiplicado por 4, se aproxima al valor de pi. \n",
        "    \"\"\"\n",
        "    try:\n",
        "        i=0\n",
        "        for n in range(0,m+1):\n",
        "            i=i+((-1)**n)/(2*n+1)   #Con ayuda de un contador, se van sumando los valores correspondientes de la suma, usando un ciclo for.\n",
        "        return(i)\n",
        "    except TypeError:\n",
        "        print('Entrada no válida')"
      ]
    },
    {
      "cell_type": "code",
      "execution_count": 17,
      "id": "7963a147",
      "metadata": {
        "id": "7963a147",
        "outputId": "2a23951f-a6db-4d7f-b4bc-50dad72f44b8",
        "colab": {
          "base_uri": "https://localhost:8080/"
        }
      },
      "outputs": [
        {
          "output_type": "stream",
          "name": "stdout",
          "text": [
            "El valor de la serie de Leibniz es: 0.7854006633724301\n",
            "Entonces el valor de pi es: 3.1416026534897203\n"
          ]
        }
      ],
      "source": [
        "print('El valor de la serie de Leibniz es:', pi4(100000))\n",
        "print('Entonces el valor de pi es:', 4*pi4(100000))"
      ]
    },
    {
      "cell_type": "markdown",
      "id": "d0c28e6e",
      "metadata": {
        "id": "d0c28e6e"
      },
      "source": [
        "### Ejercicio 7 (1 puntos): Identificador de vocales\n",
        "\n",
        "Escribe una función que reciba una cadena, por ejemplo 'el pErro de la tiA chOnita' y regrese la cantidad de vocales que contiene. La función debe contener varios casos de prueba, if, elif y else. Con la cadena de ejemplo, imprime en pantalla el resultado de la función (10).\n",
        "\n",
        "Para conocer si un caracter es una vocal, primero debes descomponer la cadena en caracteres individuales. Para ello observa el siguiente código:"
      ]
    },
    {
      "cell_type": "code",
      "execution_count": 18,
      "id": "55a65e0f",
      "metadata": {
        "colab": {
          "base_uri": "https://localhost:8080/"
        },
        "id": "55a65e0f",
        "outputId": "43748712-3f38-424e-ebe9-ae2734082025"
      },
      "outputs": [
        {
          "output_type": "stream",
          "name": "stdout",
          "text": [
            "['e', 'l', ' ', 'p', 'E', 'r', 'r', 'o', ' ', 'd', 'e', ' ', 'l', 'a', ' ', 't', 'i', 'A', ' ', 'c', 'h', 'O', 'n', 'i', 't', 'a']\n"
          ]
        }
      ],
      "source": [
        "# Divide una cadena en caracteres individuales\n",
        "cadena_prueba = 'el pErro de la tiA chOnita'\n",
        "caracteres_individuales = list(cadena_prueba)\n",
        "print(caracteres_individuales)"
      ]
    },
    {
      "cell_type": "code",
      "execution_count": 24,
      "id": "33ea3fef",
      "metadata": {
        "id": "33ea3fef"
      },
      "outputs": [],
      "source": [
        "cadena=str\n",
        "def IdVoc(cadena):\n",
        "  \"\"\"La función IdVoc(cadena) recibe una cadena de caracteres y devuelve el número de vocales que tiene la cadena (incluyendo mayúsculas y con signos de puntuación).\n",
        "  \"\"\"\n",
        "  try:  \n",
        "      a=0\n",
        "      caracteres_individuales=list(cadena)                         #esta lista descompone la cadena dada, y sus elementos son los caracteres de la cadena.\n",
        "      vocales=['a','A','e','E','i','I','o','O','u','U','á','Á','é','É','í','Í','ó','Ó','ú','Ú','ü','Ü']    #Esta lista contiene todas las vocales, incluyendo mayúsculas y con signos de puntuación (posibles en español). \n",
        "      ###Se crean dos ciclos for con el fin de comparar los elementos de 'caracteres_individuales' con los de 'vocales'. Así podremos saber cuáles son vocales y cuales no, definiendo sólamente un condicional y un contador.###\n",
        "      for i in range(0,len(caracteres_individuales)):\n",
        "        for k in range(0,len(vocales)):\n",
        "          if caracteres_individuales[i]==vocales[k]:\n",
        "            a=a+1 \n",
        "      return(a)\n",
        "  except TypeError:\n",
        "        print('Entrada no válida')"
      ]
    },
    {
      "cell_type": "code",
      "execution_count": 26,
      "id": "e0614342",
      "metadata": {
        "colab": {
          "base_uri": "https://localhost:8080/"
        },
        "id": "e0614342",
        "outputId": "1005652d-c67b-48b0-9105-56d273446605"
      },
      "outputs": [
        {
          "output_type": "execute_result",
          "data": {
            "text/plain": [
              "10"
            ]
          },
          "metadata": {},
          "execution_count": 26
        }
      ],
      "source": [
        "IdVoc('el pErro de la tiA chOnita') "
      ]
    },
    {
      "cell_type": "code",
      "execution_count": 21,
      "id": "80853f74",
      "metadata": {
        "colab": {
          "base_uri": "https://localhost:8080/"
        },
        "id": "80853f74",
        "outputId": "ad6fe285-8361-476e-d96e-0639909810fa"
      },
      "outputs": [
        {
          "output_type": "execute_result",
          "data": {
            "text/plain": [
              "11"
            ]
          },
          "metadata": {},
          "execution_count": 21
        }
      ],
      "source": [
        "IdVoc('Parangaricutirimícuaro')"
      ]
    },
    {
      "cell_type": "markdown",
      "id": "fb89fa24",
      "metadata": {
        "id": "fb89fa24"
      },
      "source": [
        "### Ejercicio 8 (2 puntos):\n",
        "\n",
        "Escribe una clase \"calculadora\" que regrese el resultado de las operaciones de suma, resta, multiplicacion, division, modulo y potencia. La clase debe contener un método para cada operación.\n",
        "\n",
        "Los métodos que pudiesen presentar errores como division entre cero, deben ser manejados de tal manera que el programa no imprima ningun error (vimos una clausula para hacer esto).\n",
        "\n",
        "Adicional a esto, los métodos modulo y potencia deben ser generales, es decir, deben funcionar para cualquier número entero positivo (es un parámetro extra del método). Por ejemplo, la potencia de 2 elevado a 3 es 8, la potencia de 5 elevado a 3 es 125, etc.\n",
        "\n",
        "Crea una instancia de la clase calculadora y prueba cada uno de los métodos, con valores de tu elección. Para los métodos que pudiesen presentar errores da dos ejemplos, uno totalmente funcional (3/5 por ejemplo) y otro que sea conflictivo pero que no regresa ningún error (4/0 por ejemplo)."
      ]
    },
    {
      "cell_type": "markdown",
      "id": "c6e4da53",
      "metadata": {
        "id": "c6e4da53"
      },
      "source": [
        "### Ejercicio de puntos extras opcional (1 punto):\n",
        "\n",
        "Supóngamos que tenemos una lista de números enteros y queremos encontrar el número más grande. Por ejemplo, si la lista es `[1, 2, 3, 4, 5]` el número más grande es 5. Crea una función que encuentre el número más grande en una lista de números. La función debe regresar el número más grande y el índice en el que se encuentra. Prueba la función con una lista de números de tu elección."
      ]
    },
    {
      "cell_type": "code",
      "execution_count": 27,
      "id": "bee8ee9f",
      "metadata": {
        "id": "bee8ee9f"
      },
      "outputs": [],
      "source": [
        "l=list \n",
        "def ListGrand(l): \n",
        " try:\n",
        "      \"\"\"La función ListGrand(l) recoge una lista de números y devuelve el más grande de la lista, así como las posiciones de éste.\n",
        "      \"\"\"\n",
        "      b=[] \n",
        "      ###Se crean dos ciclos for con la finalidad de comparar cada elemento con los demás elementos de la lista ###\n",
        "      for i in range(len(l)):         \n",
        "          a=0\n",
        "          for k in range(len(l)):\n",
        "              if l[i]/l[k]>=1:         #Recogerá todas cas comparaciones de elementos usando el cociente de la divición. La división de cada elemento entre el número más grande tendrá un valor menor o igual a 1. Se usa un contador\n",
        "                  a=a+1\n",
        "                  if a==len(l):        #Si en contador es igual a la longitud de la lista, quiere decir que el elemento asociado a este contador es el mayor de la lista.\n",
        "                      b.append(i)      #'b' es la lista que recoge el elemento i que cumple la condición anterior (la posición del número más grande).\n",
        "                      c=l[i]           #'c' es el valor del elemento i de la lista 'l'.\n",
        "      return(c,b)  \n",
        " except TypeError:\n",
        "        print('Entrada no válida')              "
      ]
    },
    {
      "cell_type": "code",
      "execution_count": 29,
      "id": "36b9584f",
      "metadata": {
        "colab": {
          "base_uri": "https://localhost:8080/"
        },
        "id": "36b9584f",
        "outputId": "a9ef364b-1077-4e18-ca24-cd2768770b07"
      },
      "outputs": [
        {
          "output_type": "stream",
          "name": "stdout",
          "text": [
            "El número más grande de la lista y su(s) posición(es), respectivamente, son (10000, [0])\n"
          ]
        }
      ],
      "source": [
        "print('El número más grande de la lista y su(s) posición(es), respectivamente, son', ListGrand([10000,2000,3,444,518,9,4,2]))"
      ]
    },
    {
      "cell_type": "markdown",
      "id": "525883b3",
      "metadata": {
        "id": "525883b3"
      },
      "source": [
        "### Ejercicio de puntos extras opcional (3 puntos):\n",
        "\n",
        "Supóngamos que tenemos un dado convencional de 6 caras. Crea una función que simule el lanzamiento de un dado. La función debe regresar un número aleatorio entre 1 y 6.\n",
        "\n",
        "Sabemos que la probabilidad de que salga un número es de $\\frac{1}{6}$, es decir, la probabilidad de que salga un 1 es de $\\frac{1}{6}$, la probabilidad de que salga un 2 es de $\\frac{1}{6}$, etc.\n",
        "\n",
        "* Prueba la función con 6 lanzamientos, en una celda markdown explica porqué el resultado es dificilmente [1, 2, 3, 4, 5, 6].\n",
        "\n",
        "* Prueba la función con 1000 lanzamientos, crea una grafica de barras de los resultados (investiga como puedes graficar los resultados en una grafica de barras) y explica a que distribucion se parece y porqué es así.\n",
        "\n",
        "Hint: Para crear los números aleatorios, puedes usar la función `random.randint()`. O bien, usar el modulo numpy para crearlos. Para graficar los resultados, puedes usar la libreria matplotlib, seaborn, plotly o cualquiera que se te haga más fácil."
      ]
    },
    {
      "cell_type": "code",
      "source": [
        "import random\n",
        "def Aleatorio(n,m):              #Se crea una función que admite dos números enteros y devuelve un número aleatorio entre éstos.\n",
        "  return(random.randint(n,m))"
      ],
      "metadata": {
        "id": "gwuFd_aMc_UD"
      },
      "id": "gwuFd_aMc_UD",
      "execution_count": 45,
      "outputs": []
    },
    {
      "cell_type": "code",
      "source": [
        "Aleatorio(1,6)"
      ],
      "metadata": {
        "colab": {
          "base_uri": "https://localhost:8080/"
        },
        "id": "Je1J0GnqgfhL",
        "outputId": "8e1e6925-8667-4b91-fb88-6297bfe7da08"
      },
      "id": "Je1J0GnqgfhL",
      "execution_count": 52,
      "outputs": [
        {
          "output_type": "execute_result",
          "data": {
            "text/plain": [
              "5"
            ]
          },
          "metadata": {},
          "execution_count": 52
        }
      ]
    },
    {
      "cell_type": "code",
      "source": [
        "l=[]\n",
        "for i in range(0,6):\n",
        "  l.append(Aleatorio(1,6))\n",
        "print(l)                       #Se imprime una lista que guarda en 6 entradas el resultado de la función aleatoria antes definida."
      ],
      "metadata": {
        "colab": {
          "base_uri": "https://localhost:8080/"
        },
        "id": "Pp4gYXrTqSiz",
        "outputId": "5bf5e966-4a45-4e1a-8e85-ca44903e1610"
      },
      "id": "Pp4gYXrTqSiz",
      "execution_count": 50,
      "outputs": [
        {
          "output_type": "stream",
          "name": "stdout",
          "text": [
            "[2, 2, 1, 4, 6, 1]\n"
          ]
        }
      ]
    },
    {
      "cell_type": "markdown",
      "source": [
        "Notamos que es difícil que téngamos una lista l=[1,2,3,4,5,6] puesto que nuestro espacio muestral constituye de 6^6 eventos (debido a que cada entrada de la lista (6 entradas) puede contener cualquiera de las 6 caras del dado), y como l es un elemento de este espacio muestral, la probabilidad de obtener este evento es de 1/6^6."
      ],
      "metadata": {
        "id": "-hSOvRtkrDTc"
      },
      "id": "-hSOvRtkrDTc"
    },
    {
      "cell_type": "code",
      "source": [],
      "metadata": {
        "id": "bvGlbP5zq_E4"
      },
      "id": "bvGlbP5zq_E4",
      "execution_count": null,
      "outputs": []
    }
  ],
  "metadata": {
    "kernelspec": {
      "display_name": "Python 3 (ipykernel)",
      "language": "python",
      "name": "python3"
    },
    "language_info": {
      "codemirror_mode": {
        "name": "ipython",
        "version": 3
      },
      "file_extension": ".py",
      "mimetype": "text/x-python",
      "name": "python",
      "nbconvert_exporter": "python",
      "pygments_lexer": "ipython3",
      "version": "3.9.7"
    },
    "vscode": {
      "interpreter": {
        "hash": "ad2bdc8ecc057115af97d19610ffacc2b4e99fae6737bb82f5d7fb13d2f2c186"
      }
    },
    "colab": {
      "provenance": []
    }
  },
  "nbformat": 4,
  "nbformat_minor": 5
}